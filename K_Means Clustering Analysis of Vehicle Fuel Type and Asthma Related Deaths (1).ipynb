{
 "cells": [
  {
   "cell_type": "code",
   "execution_count": 1,
   "metadata": {
    "id": "MPrJ8HLyC-Cd"
   },
   "outputs": [],
   "source": [
    "# Keep this code cell here\n",
    "# Project title will be used by the reviewer\n",
    "PROJECT_TITLE = \"Correlation between Fuel Type and Asthma Deaths by County\"\n",
    "NOTEBOOK_ID   = \"1KHw8VytDaierq4eCypSV4rx-8UorB8Mh\"\n",
    "VERSION = \"FA20.12.6.2020\""
   ]
  },
  {
   "cell_type": "markdown",
   "metadata": {
    "id": "T9gimS_ML2C_"
   },
   "source": [
    "This Project is going to correlate Vehicle and Health data from 9 counties that make up the Bay Area. I obtained data files from the CA.gov open data portal and found \"Asthma Deaths by County\" and \"Vehicle Fuel Type Count by Zip Code\". A heavy task will involve normalizing the zipcoded data into organized data frame for the counties that host the multiple zip codes in their area. From there I will be able to connect whether the fuel type (Hybrid, Elec, Gas) has an affect on the presence of Asthma deaths and create a visualization based on most K-Means Clustering"
   ]
  },
  {
   "cell_type": "code",
   "execution_count": 27,
   "metadata": {
    "colab": {
     "base_uri": "https://localhost:8080/",
     "height": 409
    },
    "id": "JQo5zhkeEuXL",
    "outputId": "4440c202-c0a7-45bc-9ff6-0a5596e4f3a1"
   },
   "outputs": [
    {
     "data": {
      "text/html": [
       "<!-- this should be the ONLY html cell in the notebook: use markdown -->\n",
       "<div style=\"font-size:30px; max-width:800px; font-family:Times, serif;\">\n",
       " Asthma Deaths to Fuel Type K-Means Clustering\n",
       "    \n",
       "<video width=\"600\" controls>\n",
       "  <source src=\"https://drive.google.com/uc?export=download&id=12Yx3AyvYmQZ8SBghdPOWDyT16rBIxhYD\"\n",
       "  type=\"video/mp4\">\n",
       "</video>\n",
       "</div>\n"
      ],
      "text/plain": [
       "<IPython.core.display.HTML object>"
      ]
     },
     "metadata": {},
     "output_type": "display_data"
    }
   ],
   "source": [
    "%%html\n",
    "<!-- this should be the ONLY html cell in the notebook: use markdown -->\n",
    "<div style=\"font-size:30px; max-width:800px; font-family:Times, serif;\">\n",
    " Asthma Deaths to Fuel Type K-Means Clustering\n",
    "    \n",
    "<video width=\"600\" controls>\n",
    "  <source src=\"https://drive.google.com/uc?export=download&id=12Yx3AyvYmQZ8SBghdPOWDyT16rBIxhYD\"\n",
    "  type=\"video/mp4\">\n",
    "</video>\n",
    "</div>"
   ]
  },
  {
   "cell_type": "code",
   "execution_count": 3,
   "metadata": {
    "id": "4ZK0-f54UAtE"
   },
   "outputs": [],
   "source": [
    "# add your imports here for your entire project\n",
    "import pandas as pd\n",
    "import numpy as np\n",
    "import matplotlib\n",
    "import matplotlib.pyplot as plt"
   ]
  },
  {
   "cell_type": "markdown",
   "metadata": {
    "id": "GJvmagnZDPjW"
   },
   "source": [
    "# Data Acquisition, Selection, Cleaning\n",
    "Introduce the data here as well as any technical overview that's important that wasn't given in the introduction\n"
   ]
  },
  {
   "cell_type": "code",
   "execution_count": 4,
   "metadata": {
    "colab": {
     "base_uri": "https://localhost:8080/"
    },
    "id": "6dZ0EmFE8nSA",
    "outputId": "121f36ab-870c-4746-b24d-f9793924c336"
   },
   "outputs": [
    {
     "name": "stdout",
     "output_type": "stream",
     "text": [
      "426\n"
     ]
    }
   ],
   "source": [
    "AlamedaCounty = [94502, 94505, 94514, 94536, 94538, 94539, 94541,94542, 94544,94545,94546,94550,94551,94552,94555, 94560,94566,94568,94577,94578,94579,94580,94586,94587, 94588,94601, 94602, 94603,94605,94606, 94607,94608, 94609,94610,94611,94612,94615,94617,94618,94619,94621, 94702,94703,94704,94705,94706,94707,94708,94709, 94710,95377,95391]\n",
    "ContraCostaCounty = [94506,94507,94507,94511,94513,94514,94516,94517,94518,94519,94520,94521,94522,94523,94524,94525,94526,94527,94528,94530,94531,94547,94548,94549,94553,94556,94561,94562,94564,94565,94569,94570,94572,94575,94583,94595,94596,94597,94598,94801,94802,94803,94804,94805,94806,94807,94808,94820,94850]\n",
    "MarinCounty = [94901,94903,94904,94912,94913,94914,94915,94920,94924,94925,94930,94933,94937,94938,94939,94940,94941,94942,94925,94946,94947,94948,94949,94950,94956,94957,94960,94963,94964,94965,94966,94970,94971,94973,94973,94974,94976,94977,94978,94979]\n",
    "NapaCounty = [94503,94508,94515,94558,94559,94562,94567,94573,94574,94576,94581,94599]\n",
    "SanFranciscoCounty = [94101,94102,94103,94104,94105,94106,94107,94108,94109,94110,94111,94112,94114,94115,94116,94117,94118,94119,94120,94121,94123,94124,94125,94126,94127,94129,94130,94131,94132,94133,94134,94140,94141,94142,94146,94147,94157,94159,94164,94165,94166,94167,94168,94169,94170,94172,94188]\n",
    "SanMateoCounty = [94002,94003,94005,94010,94011,94012,94014,94015,94016,94017,94018,94020,94021,94025,94026,94027,94028,94029,94030,94031,94037,94038,94044,94045,94059,94060,94061,94062,94063,94064,94065,94066,94067,94070,94071,94074,94080,94083,94096,94098,94099,94128,94307,94308,94401,94402,94403,94404,94405,94406,94407,94408,94409]\n",
    "SantaClaraCounty = [94022,94023,94024,94035,94039,94040,94041,94042,94043,94085,94086,94087,94088,94089,94090,94301,94302,94303,94304,94305,94306,94309,94310,95002,95008,95009,95011,95013,95014,95014,95015,95020,95021,95026,95030,95031,95032,95035,95036,95037,95038,94042,95044,95046,95050,95051,95052,95054,95055,95056,95070,95071,95101,95102,95103,95106,95108,95109,95110,95111,95112,95113,95114,95115,95116,95117,95118,95119,95120,95121,95122,95123,95124,95125,95126,95127,95128,95129,95130,95131,95132,95133,95134,95135,95136,95137,95138,94139,95140,95141,95142,95148,95150,95151,95152,95153,95154,95155,95156,95157,95158,95159,95160,95151,95164,95170,95171,95172,95173]\n",
    "SolanoCounty = [94510,94512,94533,94534,94535,94571,94585,94589,94590,94591,94592,95620,95625,95687,95688,95696,]\n",
    "SonomaCounty = [94922,94923,94927,94928,94931,94951,94952,94953,94954,94955,94972,94975,94999,95401,95402,95403,95404,95405,95406,95407,95408,95409,95412,95416,95419,95421,95425,95430,95431,95436,95439,95441,95442,95444,95446,95448,95450,95452,95462,95471,95472,95473,95476,95480,95486,95487,95492,95497]\n",
    "AllZips = AlamedaCounty + ContraCostaCounty + MarinCounty + NapaCounty + SanFranciscoCounty + SanMateoCounty + SantaClaraCounty + SolanoCounty + SonomaCounty\n",
    "print(len(AllZips))\n",
    "\n",
    "#zipcode data: #http://www.ciclt.net/sn/clt/capitolimpact/gw_state.aspx?state=ca&stfips=&stname=california"
   ]
  },
  {
   "cell_type": "code",
   "execution_count": 7,
   "metadata": {},
   "outputs": [],
   "source": [
    "BayCounties = ['Alameda', 'Contra Costa', 'Marin', 'Napa', 'San Francisco', 'San Mateo', 'Santa Clara', 'Solano', 'Sonoma']\n",
    "\n",
    "def install_data1():\n",
    "  Asthma = 'https://drive.google.com/uc?export=download&id=1Gq2g5FqSx7_-S6v6p_F12IVnqxCwb6lu'\n",
    "  df1 = pd.read_csv(Asthma)\n",
    "  return df1\n",
    "def install_data2():\n",
    "  Veh = 'https://drive.google.com/uc?export=download&id=1YFslPN7VAvn5KVTmO53b4hsDhOd1QZC4'\n",
    "  df2  = pd.read_csv(Veh)\n",
    "  df2.rename(columns = {'Zip Code':'ZipCode'},inplace=True)\n",
    "  df2 = df2[df2.ZipCode != 'Other']\n",
    "  df2 = df2[df2.ZipCode != 'OOS']\n",
    "  df2_years = df2[df2.ZipCode.isin(AllZips)] \n",
    "  df2_years.reset_index(drop=True,inplace=True) \n",
    "  return df2_years\n",
    "\n",
    "def clean_data(df):\n",
    "  df.columns.str.strip()\n",
    "  df.replace(' ',np.nan)\n",
    "  return df\n",
    "\n",
    "def combine_data(df1,df2):  #combine 2 dataframes into 1\n",
    "  df2['COUNTY'] = df1['COUNTY']\n",
    "  df2['Number of Deaths'] = df1['NUMBER OF DEATHS']\n",
    "  return df2"
   ]
  },
  {
   "cell_type": "code",
   "execution_count": 8,
   "metadata": {},
   "outputs": [],
   "source": [
    "AsthmaData = install_data1()\n",
    "#combine_data(clean_data(install_data1()),clean_data(install_data2()))\n",
    "OneFrame = combine_data(clean_data(install_data1()),clean_data(install_data2()))"
   ]
  },
  {
   "cell_type": "code",
   "execution_count": 9,
   "metadata": {
    "colab": {
     "base_uri": "https://localhost:8080/"
    },
    "id": "534o7px8KHBf",
    "outputId": "531f12a7-b5ee-4c9a-f4ab-af41b7691c4c"
   },
   "outputs": [],
   "source": [
    "def CountyMapper(df):   #map the county to the given zipcode \n",
    "  countyname = []\n",
    "  for zip in df['ZipCode']:\n",
    "    if zip in SanMateoCounty:\n",
    "      countyname.append('San Mateo')\n",
    "    elif zip in ContraCostaCounty:\n",
    "      countyname.append('Contra Costa')\n",
    "    elif zip in SolanoCounty:\n",
    "      countyname.append('Solano')\n",
    "    elif zip in AlamedaCounty:\n",
    "      countyname.append('Alameda')\n",
    "    elif zip in MarinCounty:\n",
    "      countyname.append('Marin')\n",
    "    elif zip in NapaCounty:\n",
    "      countyname.append('Napa')\n",
    "    elif zip in SantaClaraCounty:\n",
    "      countyname.append('Santa Clara')\n",
    "    elif zip in SonomaCounty:\n",
    "      countyname.append('Sonoma')\n",
    "    elif zip in SanFranciscoCounty:\n",
    "      countyname.append('San Francisco')\n",
    "    else:\n",
    "      pass\n",
    "  df['CountyZipped'] = countyname\n",
    "  return df\n",
    "  \n",
    "  \n",
    "\n",
    "def CarCounter(df): #sums up vehicles according to the county they are in\n",
    "  SanMateoVeh = 0\n",
    "  AlamedaVeh = 0\n",
    "  ContraCostaVeh = 0 \n",
    "  MarinVeh = 0\n",
    "  NapaVeh = 0\n",
    "  SonomaVeh = 0 \n",
    "  SolanoVeh = 0\n",
    "  SanFranciscoVeh = 0 \n",
    "  SantaClaraVeh = 0\n",
    "\n",
    "\n",
    "  for index,row in df.iterrows():\n",
    "    if row['CountyZipped'] == 'San Mateo':\n",
    "      SanMateoVeh += row['Vehicles']\n",
    "    elif row['CountyZipped'] == 'Contra Costa':\n",
    "      ContraCostaVeh += row['Vehicles']\n",
    "    elif row['CountyZipped'] == 'Solano':\n",
    "      SolanoVeh += row['Vehicles']\n",
    "    elif row['CountyZipped'] == 'Alameda':\n",
    "      AlamedaVeh += row['Vehicles']\n",
    "    elif row['CountyZipped'] == 'Marin':\n",
    "      MarinVeh += row['Vehicles']\n",
    "    elif row['CountyZipped'] == 'Napa':\n",
    "      NapaVeh += row['Vehicles']\n",
    "    elif row['CountyZipped'] == 'Santa Clara':\n",
    "      SantaClaraVeh += row['Vehicles']\n",
    "    elif row['CountyZipped'] == 'Sonoma':\n",
    "      SonomaVeh += row['Vehicles']\n",
    "    elif row['CountyZipped'] == 'San Francisco':\n",
    "      SanFranciscoVeh += row['Vehicles']\n",
    "\n",
    "  CarCountDict = {'San Mateo': SanMateoVeh, 'Contra Costa': ContraCostaVeh, 'Solano': SolanoVeh, 'Sonoma': SonomaVeh, 'Alameda': AlamedaVeh, 'Marin': MarinVeh, 'Santa Clara': SantaClaraVeh, 'San Francisco': SanFranciscoVeh, 'Napa':NapaVeh}\n",
    "  print(CarCountDict)\n",
    "  TotalVeh = [AlamedaVeh,ContraCostaVeh,SanFranciscoVeh,SanMateoVeh,SantaClaraVeh,SolanoVeh,SonomaVeh,MarinVeh,NapaVeh]\n",
    "\n",
    "  return TotalVeh #total veh df['Vehicles'].sum())\n",
    "\n",
    "def CarTypeCounter(df): #sums up vehicles based on whether they are alternative or combustion according to the county they are in \n",
    "  SMComb = 0\n",
    "  SMAlt = 0\n",
    "  AlamComb = 0\n",
    "  AlamAlt = 0\n",
    "  CCComb = 0\n",
    "  CCAlt = 0\n",
    "  MarComb = 0\n",
    "  MarAlt = 0\n",
    "  NapaComb = 0\n",
    "  NapaAlt = 0\n",
    "  SonComb = 0\n",
    "  SonAlt = 0\n",
    "  SolComb = 0\n",
    "  SolAlt = 0\n",
    "  SFComb = 0\n",
    "  SFAlt = 0\n",
    "  SCComb = 0\n",
    "  SCAlt = 0\n",
    "  \n",
    "  Combustion = ['Gasoline', 'Diesel and Diesel Hybrid', 'Hybrid Gasoline', 'Flex-Fuel', 'Natural Gas', 'Other']\n",
    "  Alternative = ['Battery Electric', 'Plug-in Hybrid', 'Hydrogen Fuel Cell']\n",
    "\n",
    "  for index,row in df.iterrows():\n",
    "    if row['CountyZipped'] == 'San Mateo' and row['Fuel'] in Combustion:\n",
    "      SMComb += row['Vehicles']\n",
    "    elif row['CountyZipped'] == 'San Mateo' and row['Fuel'] in Alternative:\n",
    "      SMAlt += row['Vehicles']\n",
    "\n",
    "    elif row['CountyZipped'] == 'Contra Costa' and row['Fuel'] in Combustion:\n",
    "      CCComb += row['Vehicles']\n",
    "    elif row['CountyZipped'] == 'Contra Costa' and row['Fuel'] in Alternative:\n",
    "      CCAlt += row['Vehicles']\n",
    "\n",
    "    elif row['CountyZipped'] == 'Solano' and row['Fuel'] in Combustion:\n",
    "      SolComb += row['Vehicles']\n",
    "    elif row['CountyZipped'] == 'Solano' and row['Fuel'] in Alternative:  \n",
    "      SolAlt += row['Vehicles']\n",
    "\n",
    "    elif row['CountyZipped'] == 'Alameda' and row['Fuel'] in Combustion:\n",
    "      AlamComb += row['Vehicles']\n",
    "    elif row['CountyZipped'] == 'Alameda' and row['Fuel'] in Alternative: \n",
    "      AlamAlt += row['Vehicles'] \n",
    "\n",
    "    elif row['CountyZipped'] == 'Marin' and row['Fuel'] in Combustion:\n",
    "      MarComb += row['Vehicles']\n",
    "    elif row['CountyZipped'] == 'Marin' and row['Fuel'] in Alternative:  \n",
    "      MarAlt += row['Vehicles']\n",
    "\n",
    "    elif row['CountyZipped'] == 'Napa' and row['Fuel'] in Combustion:\n",
    "      NapaComb += row['Vehicles']\n",
    "    elif row['CountyZipped'] == 'Napa' and row['Fuel'] in Alternative:  \n",
    "      NapaAlt += row['Vehicles']\n",
    "\n",
    "    elif row['CountyZipped'] == 'Santa Clara' and row['Fuel'] in Combustion:\n",
    "      SCComb += row['Vehicles']\n",
    "    elif row['CountyZipped'] == 'Santa Clara' and row['Fuel'] in Alternative:\n",
    "      SCAlt += row['Vehicles']\n",
    "\n",
    "    elif row['CountyZipped'] == 'Sonoma' and row['Fuel'] in Combustion:\n",
    "      SonComb += row['Vehicles']\n",
    "    elif row['CountyZipped'] == 'Sonoma' and row['Fuel'] in Alternative:\n",
    "      SonAlt += row['Vehicles']  \n",
    "\n",
    "    elif row['CountyZipped'] == 'San Francisco' and row['Fuel'] in Combustion:\n",
    "      SFComb += row['Vehicles']\n",
    "    elif row['CountyZipped'] == 'San Francisco' and row['Fuel'] in Alternative:\n",
    "      SFAlt += row['Vehicles'] \n",
    "\n",
    "  CarTypeCountDict = {'San Mateo Combustion': SMComb, 'San Mateo Alternative': SMAlt, 'Contra Costa Combustion': CCComb, 'Contra Costa Alternative': CCAlt, 'Solano Combustion': SolComb, 'Solano Alternative': SolAlt, 'Sonoma Combustion': SonComb, 'Sonoma Alternative': SonAlt, 'Alameda Combustion': AlamComb, 'Alameda Alternative': AlamAlt, 'Marin Combustion': MarComb, 'Marin Alternative': MarAlt, 'Santa Clara Combustion': SCComb, 'Santa Clara Alternative': SCAlt, 'San Francisco Combustin': SFComb, 'San Francisco Alternative': SFAlt, 'Napa Combustion':NapaComb, 'Napa Alternative': NapaAlt}\n",
    "  print(CarTypeCountDict)\n",
    "  Alternatives = [AlamAlt,CCAlt,SFAlt,SMAlt,SCAlt,SolAlt,SonAlt,MarAlt,NapaAlt]\n",
    "  Combustions = [AlamComb,CCComb,SFComb,SMComb,SCComb,SolComb,SonComb,MarComb,NapaComb]\n",
    "  return Alternatives,Combustions\n"
   ]
  },
  {
   "cell_type": "code",
   "execution_count": 10,
   "metadata": {},
   "outputs": [
    {
     "name": "stdout",
     "output_type": "stream",
     "text": [
      "{'San Mateo': 670208, 'Contra Costa': 808628, 'Solano': 277316, 'Sonoma': 444153, 'Alameda': 1225246, 'Marin': 208023, 'Santa Clara': 1546195, 'San Francisco': 421622, 'Napa': 125201}\n",
      "{'San Mateo Combustion': 654085, 'San Mateo Alternative': 16123, 'Contra Costa Combustion': 795120, 'Contra Costa Alternative': 13508, 'Solano Combustion': 274747, 'Solano Alternative': 2569, 'Sonoma Combustion': 436742, 'Sonoma Alternative': 7411, 'Alameda Combustion': 1193045, 'Alameda Alternative': 32201, 'Marin Combustion': 201887, 'Marin Alternative': 6136, 'Santa Clara Combustion': 1490517, 'Santa Clara Alternative': 55678, 'San Francisco Combustin': 411730, 'San Francisco Alternative': 9892, 'Napa Combustion': 123608, 'Napa Alternative': 1593}\n"
     ]
    },
    {
     "data": {
      "text/plain": [
       "([32201, 13508, 9892, 16123, 55678, 2569, 7411, 6136, 1593],\n",
       " [1193045, 795120, 411730, 654085, 1490517, 274747, 436742, 201887, 123608])"
      ]
     },
     "execution_count": 10,
     "metadata": {},
     "output_type": "execute_result"
    }
   ],
   "source": [
    "def vehtypecounts(df):\n",
    "  return df.Fuel.value_counts()\n",
    "\n",
    "ZippedCounties = CountyMapper(OneFrame)\n",
    "\n",
    "\n",
    "CarCounter(ZippedCounties)\n",
    "\n",
    "CarTypeCounter(ZippedCounties)\n",
    "#vehtypecounts(ZippedCounties)"
   ]
  },
  {
   "cell_type": "code",
   "execution_count": 11,
   "metadata": {},
   "outputs": [
    {
     "data": {
      "text/plain": [
       "Gasoline                    66401\n",
       "Diesel and Diesel Hybrid    11310\n",
       "Hybrid Gasoline              9977\n",
       "Flex-Fuel                    9952\n",
       "Battery Electric             4280\n",
       "Plug-in Hybrid               3701\n",
       "Natural Gas                  1117\n",
       "Hydrogen Fuel Cell            388\n",
       "Other                         291\n",
       "Name: Fuel, dtype: int64"
      ]
     },
     "execution_count": 11,
     "metadata": {},
     "output_type": "execute_result"
    }
   ],
   "source": [
    "vehtypecounts(ZippedCounties)"
   ]
  },
  {
   "cell_type": "code",
   "execution_count": 12,
   "metadata": {
    "colab": {
     "base_uri": "https://localhost:8080/",
     "height": 327
    },
    "id": "4uXXZaqoblxX",
    "outputId": "d72165d8-8fca-4aef-b934-35fc68fc0195"
   },
   "outputs": [
    {
     "data": {
      "text/html": [
       "<div>\n",
       "<style scoped>\n",
       "    .dataframe tbody tr th:only-of-type {\n",
       "        vertical-align: middle;\n",
       "    }\n",
       "\n",
       "    .dataframe tbody tr th {\n",
       "        vertical-align: top;\n",
       "    }\n",
       "\n",
       "    .dataframe thead th {\n",
       "        text-align: right;\n",
       "    }\n",
       "</style>\n",
       "<table border=\"1\" class=\"dataframe\">\n",
       "  <thead>\n",
       "    <tr style=\"text-align: right;\">\n",
       "      <th></th>\n",
       "      <th>COUNTY</th>\n",
       "      <th>NUMBER OF DEATHS</th>\n",
       "    </tr>\n",
       "  </thead>\n",
       "  <tbody>\n",
       "    <tr>\n",
       "      <th>0</th>\n",
       "      <td>Alameda</td>\n",
       "      <td>58</td>\n",
       "    </tr>\n",
       "    <tr>\n",
       "      <th>1</th>\n",
       "      <td>Contra Costa</td>\n",
       "      <td>40</td>\n",
       "    </tr>\n",
       "    <tr>\n",
       "      <th>2</th>\n",
       "      <td>San Francisco</td>\n",
       "      <td>23</td>\n",
       "    </tr>\n",
       "    <tr>\n",
       "      <th>3</th>\n",
       "      <td>San Mateo</td>\n",
       "      <td>33</td>\n",
       "    </tr>\n",
       "    <tr>\n",
       "      <th>4</th>\n",
       "      <td>Santa Clara</td>\n",
       "      <td>67</td>\n",
       "    </tr>\n",
       "    <tr>\n",
       "      <th>5</th>\n",
       "      <td>Solano</td>\n",
       "      <td>20</td>\n",
       "    </tr>\n",
       "    <tr>\n",
       "      <th>6</th>\n",
       "      <td>Sonoma</td>\n",
       "      <td>12</td>\n",
       "    </tr>\n",
       "    <tr>\n",
       "      <th>8</th>\n",
       "      <td>Marin</td>\n",
       "      <td>0</td>\n",
       "    </tr>\n",
       "    <tr>\n",
       "      <th>9</th>\n",
       "      <td>Napa</td>\n",
       "      <td>0</td>\n",
       "    </tr>\n",
       "  </tbody>\n",
       "</table>\n",
       "</div>"
      ],
      "text/plain": [
       "          COUNTY NUMBER OF DEATHS\n",
       "0        Alameda               58\n",
       "1   Contra Costa               40\n",
       "2  San Francisco               23\n",
       "3      San Mateo               33\n",
       "4    Santa Clara               67\n",
       "5         Solano               20\n",
       "6         Sonoma               12\n",
       "8          Marin                0\n",
       "9           Napa                0"
      ]
     },
     "execution_count": 12,
     "metadata": {},
     "output_type": "execute_result"
    }
   ],
   "source": [
    "#Cleaning Asthma Data\n",
    "\n",
    "def CountyKeeper(df):\n",
    "  df = df[df.COUNTY.isin(BayCounties)] \n",
    "  df = df.dropna()\n",
    "  df.reset_index(drop=True,inplace=True) \n",
    "  df = df.drop(index=[7,10,11,12,13,14,15,16,17,18,19]) #The sheet was messy and repeated past years below so I just cut them off manually\n",
    "  return df\n",
    "\n",
    "\n",
    "AnalysisFrame = CountyKeeper(AsthmaData)\n",
    "AnalysisFrame"
   ]
  },
  {
   "cell_type": "markdown",
   "metadata": {
    "id": "cZiK2fxwGz80"
   },
   "source": [
    "# Data Exploration\n",
    "Initial exploration of the dataset, not required, but useful to give the reader a 'view' of the data"
   ]
  },
  {
   "cell_type": "code",
   "execution_count": 13,
   "metadata": {
    "colab": {
     "base_uri": "https://localhost:8080/",
     "height": 382
    },
    "id": "7_070cC2Ucoc",
    "outputId": "55203f37-caf8-42c3-facd-fbd4adcd65c3"
   },
   "outputs": [
    {
     "name": "stdout",
     "output_type": "stream",
     "text": [
      "{'San Mateo': 670208, 'Contra Costa': 808628, 'Solano': 277316, 'Sonoma': 444153, 'Alameda': 1225246, 'Marin': 208023, 'Santa Clara': 1546195, 'San Francisco': 421622, 'Napa': 125201}\n",
      "{'San Mateo Combustion': 654085, 'San Mateo Alternative': 16123, 'Contra Costa Combustion': 795120, 'Contra Costa Alternative': 13508, 'Solano Combustion': 274747, 'Solano Alternative': 2569, 'Sonoma Combustion': 436742, 'Sonoma Alternative': 7411, 'Alameda Combustion': 1193045, 'Alameda Alternative': 32201, 'Marin Combustion': 201887, 'Marin Alternative': 6136, 'Santa Clara Combustion': 1490517, 'Santa Clara Alternative': 55678, 'San Francisco Combustin': 411730, 'San Francisco Alternative': 9892, 'Napa Combustion': 123608, 'Napa Alternative': 1593}\n"
     ]
    },
    {
     "data": {
      "text/html": [
       "<div>\n",
       "<style scoped>\n",
       "    .dataframe tbody tr th:only-of-type {\n",
       "        vertical-align: middle;\n",
       "    }\n",
       "\n",
       "    .dataframe tbody tr th {\n",
       "        vertical-align: top;\n",
       "    }\n",
       "\n",
       "    .dataframe thead th {\n",
       "        text-align: right;\n",
       "    }\n",
       "</style>\n",
       "<table border=\"1\" class=\"dataframe\">\n",
       "  <thead>\n",
       "    <tr style=\"text-align: right;\">\n",
       "      <th></th>\n",
       "      <th>Counties</th>\n",
       "      <th>Number of Deaths</th>\n",
       "      <th>Total Vehicles</th>\n",
       "      <th>Alternative Vehicles</th>\n",
       "      <th>Combustion Vehicles</th>\n",
       "      <th>Alternative/Combustion Percentage</th>\n",
       "      <th>Alternative Percentage</th>\n",
       "      <th>Combustion Percentage</th>\n",
       "      <th>Population</th>\n",
       "      <th>Death Percentage</th>\n",
       "    </tr>\n",
       "  </thead>\n",
       "  <tbody>\n",
       "    <tr>\n",
       "      <th>0</th>\n",
       "      <td>Alameda</td>\n",
       "      <td>58</td>\n",
       "      <td>1225246</td>\n",
       "      <td>32201</td>\n",
       "      <td>1193045</td>\n",
       "      <td>2.699060</td>\n",
       "      <td>2.628125</td>\n",
       "      <td>97.371875</td>\n",
       "      <td>1671329</td>\n",
       "      <td>0.003470</td>\n",
       "    </tr>\n",
       "    <tr>\n",
       "      <th>1</th>\n",
       "      <td>Contra Costa</td>\n",
       "      <td>40</td>\n",
       "      <td>808628</td>\n",
       "      <td>13508</td>\n",
       "      <td>795120</td>\n",
       "      <td>1.698863</td>\n",
       "      <td>1.670484</td>\n",
       "      <td>98.329516</td>\n",
       "      <td>1153526</td>\n",
       "      <td>0.003468</td>\n",
       "    </tr>\n",
       "    <tr>\n",
       "      <th>2</th>\n",
       "      <td>Marin</td>\n",
       "      <td>23</td>\n",
       "      <td>421622</td>\n",
       "      <td>9892</td>\n",
       "      <td>411730</td>\n",
       "      <td>2.402545</td>\n",
       "      <td>2.346177</td>\n",
       "      <td>97.653823</td>\n",
       "      <td>881549</td>\n",
       "      <td>0.002609</td>\n",
       "    </tr>\n",
       "    <tr>\n",
       "      <th>3</th>\n",
       "      <td>Napa</td>\n",
       "      <td>33</td>\n",
       "      <td>670208</td>\n",
       "      <td>16123</td>\n",
       "      <td>654085</td>\n",
       "      <td>2.464970</td>\n",
       "      <td>2.405671</td>\n",
       "      <td>97.594329</td>\n",
       "      <td>766573</td>\n",
       "      <td>0.004305</td>\n",
       "    </tr>\n",
       "    <tr>\n",
       "      <th>4</th>\n",
       "      <td>San Francisco</td>\n",
       "      <td>67</td>\n",
       "      <td>1546195</td>\n",
       "      <td>55678</td>\n",
       "      <td>1490517</td>\n",
       "      <td>3.735482</td>\n",
       "      <td>3.600969</td>\n",
       "      <td>96.399031</td>\n",
       "      <td>1927852</td>\n",
       "      <td>0.003475</td>\n",
       "    </tr>\n",
       "    <tr>\n",
       "      <th>5</th>\n",
       "      <td>San Mateo</td>\n",
       "      <td>20</td>\n",
       "      <td>277316</td>\n",
       "      <td>2569</td>\n",
       "      <td>274747</td>\n",
       "      <td>0.935042</td>\n",
       "      <td>0.926380</td>\n",
       "      <td>99.073620</td>\n",
       "      <td>447643</td>\n",
       "      <td>0.004468</td>\n",
       "    </tr>\n",
       "    <tr>\n",
       "      <th>6</th>\n",
       "      <td>Santa Clara</td>\n",
       "      <td>12</td>\n",
       "      <td>444153</td>\n",
       "      <td>7411</td>\n",
       "      <td>436742</td>\n",
       "      <td>1.696883</td>\n",
       "      <td>1.668569</td>\n",
       "      <td>98.331431</td>\n",
       "      <td>494336</td>\n",
       "      <td>0.002427</td>\n",
       "    </tr>\n",
       "    <tr>\n",
       "      <th>7</th>\n",
       "      <td>Solano</td>\n",
       "      <td>0</td>\n",
       "      <td>208023</td>\n",
       "      <td>6136</td>\n",
       "      <td>201887</td>\n",
       "      <td>3.039324</td>\n",
       "      <td>2.949674</td>\n",
       "      <td>97.050326</td>\n",
       "      <td>258826</td>\n",
       "      <td>0.000000</td>\n",
       "    </tr>\n",
       "    <tr>\n",
       "      <th>8</th>\n",
       "      <td>Sonoma</td>\n",
       "      <td>0</td>\n",
       "      <td>125201</td>\n",
       "      <td>1593</td>\n",
       "      <td>123608</td>\n",
       "      <td>1.288752</td>\n",
       "      <td>1.272354</td>\n",
       "      <td>98.727646</td>\n",
       "      <td>137774</td>\n",
       "      <td>0.000000</td>\n",
       "    </tr>\n",
       "  </tbody>\n",
       "</table>\n",
       "</div>"
      ],
      "text/plain": [
       "        Counties  Number of Deaths  Total Vehicles  Alternative Vehicles  \\\n",
       "0        Alameda                58         1225246                 32201   \n",
       "1   Contra Costa                40          808628                 13508   \n",
       "2          Marin                23          421622                  9892   \n",
       "3           Napa                33          670208                 16123   \n",
       "4  San Francisco                67         1546195                 55678   \n",
       "5      San Mateo                20          277316                  2569   \n",
       "6    Santa Clara                12          444153                  7411   \n",
       "7         Solano                 0          208023                  6136   \n",
       "8         Sonoma                 0          125201                  1593   \n",
       "\n",
       "   Combustion Vehicles  Alternative/Combustion Percentage  \\\n",
       "0              1193045                           2.699060   \n",
       "1               795120                           1.698863   \n",
       "2               411730                           2.402545   \n",
       "3               654085                           2.464970   \n",
       "4              1490517                           3.735482   \n",
       "5               274747                           0.935042   \n",
       "6               436742                           1.696883   \n",
       "7               201887                           3.039324   \n",
       "8               123608                           1.288752   \n",
       "\n",
       "   Alternative Percentage  Combustion Percentage  Population  Death Percentage  \n",
       "0                2.628125              97.371875     1671329          0.003470  \n",
       "1                1.670484              98.329516     1153526          0.003468  \n",
       "2                2.346177              97.653823      881549          0.002609  \n",
       "3                2.405671              97.594329      766573          0.004305  \n",
       "4                3.600969              96.399031     1927852          0.003475  \n",
       "5                0.926380              99.073620      447643          0.004468  \n",
       "6                1.668569              98.331431      494336          0.002427  \n",
       "7                2.949674              97.050326      258826          0.000000  \n",
       "8                1.272354              98.727646      137774          0.000000  "
      ]
     },
     "execution_count": 13,
     "metadata": {},
     "output_type": "execute_result"
    }
   ],
   "source": [
    "#Analysis DataFrame\n",
    "Counties = BayCounties\n",
    "TotalVehicles = CarCounter(ZippedCounties)\n",
    "Alternative, Combustion = CarTypeCounter(ZippedCounties)\n",
    "ECRatio = np.divide(Alternative,Combustion) * 100\n",
    "DeathNumber = [58,40,23,33,67,20,12,0,0]\n",
    "Population = [1671329,1153526, 881549, 766573,1927852,447643,494336,258826,137774] #order of counties in Counties Array\n",
    "DeathPercentage = np.divide(DeathNumber,Population) * 100\n",
    "AlternativePercentage = np.divide(Alternative,TotalVehicles) * 100\n",
    "CombustionPercentage = np.divide(Combustion,TotalVehicles) * 100\n",
    "\n",
    "def TestFrame():\n",
    "  df = pd.DataFrame()\n",
    "  df['Counties'] = Counties\n",
    "  df['Number of Deaths'] = DeathNumber\n",
    "  df['Total Vehicles'] = TotalVehicles\n",
    "  df['Alternative Vehicles'] = Alternative\n",
    "  df['Combustion Vehicles'] = Combustion\n",
    "  df['Alternative/Combustion Percentage'] = ECRatio\n",
    "  df['Alternative Percentage'] = AlternativePercentage\n",
    "  df['Combustion Percentage'] = CombustionPercentage\n",
    "  df['Population'] = Population\n",
    "  df['Death Percentage'] = DeathPercentage\n",
    "  return df \n",
    "\n",
    "Test = TestFrame()\n",
    "Test\n",
    "\n",
    "\n",
    "# pop data https://www.california-demographics.com/counties_by_population"
   ]
  },
  {
   "cell_type": "markdown",
   "metadata": {
    "id": "AVqckiHyDUkD"
   },
   "source": [
    "# Data Analysis"
   ]
  },
  {
   "cell_type": "code",
   "execution_count": 15,
   "metadata": {
    "colab": {
     "base_uri": "https://localhost:8080/",
     "height": 741
    },
    "id": "w_0XdDocpTrC",
    "outputId": "370b7169-6c2c-4f3d-aa04-315c69faec85"
   },
   "outputs": [
    {
     "data": {
      "image/png": "[encoded data removed]",
      "text/plain": [
       "<Figure size 1800x1800 with 81 Axes>"
      ]
     },
     "metadata": {
      "needs_background": "light"
     },
     "output_type": "display_data"
    }
   ],
   "source": [
    "def pair_wise_plots(df):\n",
    "  axes = pd.plotting.scatter_matrix(df, figsize=(25,25))\n",
    "\n",
    "pair_wise_plots(Test)"
   ]
  },
  {
   "cell_type": "code",
   "execution_count": 16,
   "metadata": {
    "colab": {
     "base_uri": "https://localhost:8080/"
    },
    "id": "Xjp2CuFcV90Y",
    "outputId": "685bb944-20f9-4953-ef2e-d3a8eaa91802"
   },
   "outputs": [
    {
     "name": "stdout",
     "output_type": "stream",
     "text": [
      "   Alternative Percentage  Alternative Vehicles  \\\n",
      "0                2.628125                 32201   \n",
      "1                1.670484                 13508   \n",
      "2                2.346177                  9892   \n",
      "3                2.405671                 16123   \n",
      "4                3.600969                 55678   \n",
      "\n",
      "   Alternative/Combustion Percentage  Combustion Percentage  \\\n",
      "0                           2.699060              97.371875   \n",
      "1                           1.698863              98.329516   \n",
      "2                           2.402545              97.653823   \n",
      "3                           2.464970              97.594329   \n",
      "4                           3.735482              96.399031   \n",
      "\n",
      "   Combustion Vehicles  Death Percentage  Number of Deaths  Population  \\\n",
      "0              1193045          0.003470                58     1671329   \n",
      "1               795120          0.003468                40     1153526   \n",
      "2               411730          0.002609                23      881549   \n",
      "3               654085          0.004305                33      766573   \n",
      "4              1490517          0.003475                67     1927852   \n",
      "\n",
      "   Total Vehicles  \n",
      "0         1225246  \n",
      "1          808628  \n",
      "2          421622  \n",
      "3          670208  \n",
      "4         1546195  \n"
     ]
    }
   ],
   "source": [
    "def Number_Set(df):\n",
    "  drop = ['Counties']\n",
    "  return df[df.columns.difference(drop)]\n",
    "\n",
    "NumberSet = Number_Set(Test)\n",
    "print(NumberSet.head(5))"
   ]
  },
  {
   "cell_type": "code",
   "execution_count": 17,
   "metadata": {
    "colab": {
     "base_uri": "https://localhost:8080/"
    },
    "id": "JMOuN-ZjX_y4",
    "outputId": "cd550d3a-2e48-40b3-8635-341646b8934a"
   },
   "outputs": [
    {
     "name": "stdout",
     "output_type": "stream",
     "text": [
      "   Alternative Percentage  Alternative Vehicles  \\\n",
      "0                2.628125                 32201   \n",
      "1                1.670484                 13508   \n",
      "2                2.346177                  9892   \n",
      "3                2.405671                 16123   \n",
      "4                3.600969                 55678   \n",
      "\n",
      "   Alternative/Combustion Percentage  Combustion Percentage  \\\n",
      "0                           2.699060              97.371875   \n",
      "1                           1.698863              98.329516   \n",
      "2                           2.402545              97.653823   \n",
      "3                           2.464970              97.594329   \n",
      "4                           3.735482              96.399031   \n",
      "\n",
      "   Combustion Vehicles  Death Percentage  Number of Deaths  Population  \\\n",
      "0              1193045          0.003470                58     1671329   \n",
      "1               795120          0.003468                40     1153526   \n",
      "2               411730          0.002609                23      881549   \n",
      "3               654085          0.004305                33      766573   \n",
      "4              1490517          0.003475                67     1927852   \n",
      "\n",
      "   Total Vehicles  \n",
      "0         1225246  \n",
      "1          808628  \n",
      "2          421622  \n",
      "3          670208  \n",
      "4         1546195  \n",
      "[[2.62812529e+00 3.22010000e+04 2.69905997e+00 9.73718747e+01\n",
      "  1.19304500e+06 3.47029220e-03 5.80000000e+01 1.67132900e+06\n",
      "  1.22524600e+06]\n",
      " [1.67048383e+00 1.35080000e+04 1.69886306e+00 9.83295162e+01\n",
      "  7.95120000e+05 3.46762882e-03 4.00000000e+01 1.15352600e+06\n",
      "  8.08628000e+05]\n",
      " [2.34617738e+00 9.89200000e+03 2.40254536e+00 9.76538226e+01\n",
      "  4.11730000e+05 2.60904385e-03 2.30000000e+01 8.81549000e+05\n",
      "  4.21622000e+05]\n",
      " [2.40567108e+00 1.61230000e+04 2.46497015e+00 9.75943289e+01\n",
      "  6.54085000e+05 4.30487377e-03 3.30000000e+01 7.66573000e+05\n",
      "  6.70208000e+05]\n",
      " [3.60096883e+00 5.56780000e+04 3.73548239e+00 9.63990312e+01\n",
      "  1.49051700e+06 3.47537052e-03 6.70000000e+01 1.92785200e+06\n",
      "  1.54619500e+06]\n",
      " [9.26380014e-01 2.56900000e+03 9.35042057e-01 9.90736200e+01\n",
      "  2.74747000e+05 4.46784603e-03 2.00000000e+01 4.47643000e+05\n",
      "  2.77316000e+05]\n",
      " [1.66856916e+00 7.41100000e+03 1.69688283e+00 9.83314308e+01\n",
      "  4.36742000e+05 2.42749871e-03 1.20000000e+01 4.94336000e+05\n",
      "  4.44153000e+05]\n",
      " [2.94967383e+00 6.13600000e+03 3.03932398e+00 9.70503262e+01\n",
      "  2.01887000e+05 0.00000000e+00 0.00000000e+00 2.58826000e+05\n",
      "  2.08023000e+05]\n",
      " [1.27235405e+00 1.59300000e+03 1.28875154e+00 9.87276459e+01\n",
      "  1.23608000e+05 0.00000000e+00 0.00000000e+00 1.37774000e+05\n",
      "  1.25201000e+05]]\n"
     ]
    }
   ],
   "source": [
    "def convert_to_points(df):\n",
    "  p = []\n",
    "  for c in df.columns:\n",
    "    pc = df[c]\n",
    "    p.append(pc)\n",
    "  points = np.stack(p,axis=1)\n",
    "  return points\n",
    "\n",
    "points = convert_to_points(NumberSet)\n",
    "print(NumberSet.head(5))\n",
    "print(points)"
   ]
  },
  {
   "cell_type": "code",
   "execution_count": 18,
   "metadata": {
    "colab": {
     "base_uri": "https://localhost:8080/"
    },
    "id": "ZAGTQxkIYilF",
    "outputId": "5c386b6c-880b-4888-b474-6eefae720be5"
   },
   "outputs": [
    {
     "name": "stdout",
     "output_type": "stream",
     "text": [
      "[[2.14077743e+00 1.31743333e+04 2.18879286e+00 9.78592226e+01\n",
      "  6.20311667e+05 3.46051548e-03 3.20000000e+01 9.33882667e+05\n",
      "  6.33486000e+05]\n",
      " [1.70424427e+00 4.42725000e+03 1.74000010e+00 9.82957557e+01\n",
      "  2.59246000e+05 1.72383618e-03 8.00000000e+00 3.34644750e+05\n",
      "  2.63673250e+05]\n",
      " [3.11454706e+00 4.39395000e+04 3.21727118e+00 9.68854529e+01\n",
      "  1.34178100e+06 3.47283136e-03 6.25000000e+01 1.79959050e+06\n",
      "  1.38572050e+06]]\n",
      "[2 0 0 0 2 1 1 1 1]\n",
      "3 {0, 1, 2}\n"
     ]
    }
   ],
   "source": [
    "from sklearn.cluster import KMeans\n",
    "\n",
    "def cluster_points(points,K=3):\n",
    "  km = KMeans(n_clusters = K, max_iter = 300, n_init=100,init = 'random', random_state = None, tol = 0.0001)\n",
    "  km.fit(points)\n",
    "  centers = km.cluster_centers_\n",
    "  print(centers)\n",
    "  labels = km.predict(points)\n",
    "  return km,labels\n",
    "\n",
    "km,labels = cluster_points(points)\n",
    "print(labels)\n",
    "print(len(km.cluster_centers_),set(labels))"
   ]
  },
  {
   "cell_type": "code",
   "execution_count": 19,
   "metadata": {
    "colab": {
     "base_uri": "https://localhost:8080/",
     "height": 391
    },
    "id": "FRLnhNulZVZq",
    "outputId": "6b247a6f-ca71-4cd3-e4ae-1143d7fdfb96"
   },
   "outputs": [
    {
     "name": "stdout",
     "output_type": "stream",
     "text": [
      "551298325169.9922\n"
     ]
    },
    {
     "data": {
      "image/png": "[encoded data removed]",
      "text/plain": [
       "<Figure size 432x432 with 1 Axes>"
      ]
     },
     "metadata": {
      "needs_background": "light"
     },
     "output_type": "display_data"
    }
   ],
   "source": [
    "import matplotlib.cm as cm\n",
    "\n",
    "def plot_kmeans(points,centers,labels,x0=0,x1=1,columns=None):\n",
    "  K = len(centers)\n",
    "  colors= ['#a6cee3','#1f78b4','#b2df8a','#33a02c','#fb9a99','#e31a1c','#fdbf6f','#ff7f00','#cab2d6']\n",
    "  cmap = matplotlib.colors.ListedColormap(colors)\n",
    "  if len(colors) <= K:\n",
    "    cmap = cm.Dark2\n",
    "  fig,axes = plt.subplots(nrows=1,ncols=1,figsize=(6,6))\n",
    "  for c_id in range(0,K):\n",
    "    mask = labels == c_id \n",
    "    c = cmap(c_id)\n",
    "    axes.scatter(points[mask][:,x0],points[mask][:,x1],color=c,s=25)\n",
    "    axes.scatter(centers[c_id,x0],centers[c_id,x1],color = c,s=200,edgecolor='black')\n",
    "\n",
    "  if columns is not None:\n",
    "      axes.set_xlabel(columns[x0], fontsize=18)\n",
    "      axes.set_ylabel(columns[x1], fontsize=16)\n",
    "  axes.grid()\n",
    "\n",
    "plot_kmeans(points,km.cluster_centers_,labels)\n",
    "print(km.inertia_)\n"
   ]
  },
  {
   "cell_type": "markdown",
   "metadata": {
    "id": "QHgmmT2XDXSu"
   },
   "source": [
    "# Conclusion"
   ]
  },
  {
   "cell_type": "code",
   "execution_count": 20,
   "metadata": {
    "colab": {
     "base_uri": "https://localhost:8080/",
     "height": 1000
    },
    "id": "ptnl6VH2i5rh",
    "outputId": "c622fc9d-b082-4615-dc31-c57bf8a8fdbd"
   },
   "outputs": [
    {
     "data": {
      "image/png": "[encoded data removed]",
      "text/plain": [
       "<Figure size 432x432 with 1 Axes>"
      ]
     },
     "metadata": {
      "needs_background": "light"
     },
     "output_type": "display_data"
    },
    {
     "data": {
      "image/png": "[encoded data removed]",
      "text/plain": [
       "<Figure size 432x432 with 1 Axes>"
      ]
     },
     "metadata": {
      "needs_background": "light"
     },
     "output_type": "display_data"
    },
    {
     "data": {
      "image/png": "[encoded data removed]",
      "text/plain": [
       "<Figure size 432x432 with 1 Axes>"
      ]
     },
     "metadata": {
      "needs_background": "light"
     },
     "output_type": "display_data"
    }
   ],
   "source": [
    "attributes = NumberSet.columns.tolist()\n",
    "x0 = attributes.index('Death Percentage')\n",
    "x1 = attributes.index('Combustion Percentage')\n",
    "plot_kmeans(points,km.cluster_centers_,labels,x0,x1,attributes)\n",
    "\n",
    "attributes = NumberSet.columns.tolist()\n",
    "x0 = attributes.index('Death Percentage')\n",
    "x1 = attributes.index('Alternative Percentage')\n",
    "plot_kmeans(points,km.cluster_centers_,labels,x0,x1,attributes)\n",
    "\n",
    "attributes = NumberSet.columns.tolist()\n",
    "x0 = attributes.index('Death Percentage')\n",
    "x1 = attributes.index('Alternative/Combustion Percentage')\n",
    "plot_kmeans(points,km.cluster_centers_,labels,x0,x1,attributes) "
   ]
  },
  {
   "cell_type": "code",
   "execution_count": 21,
   "metadata": {
    "id": "swZjTYgT40Lx"
   },
   "outputs": [],
   "source": [
    "def plot_scores(scores, y=\"inertia score\"):\n",
    "    fig, axes = plt.subplots(nrows=1, ncols=1)\n",
    "    axes.plot(scores[:, 0], scores[:, 1], color='blue', marker='x')\n",
    "    axes.set_ylabel(y, fontsize=18)\n",
    "    axes.set_xlabel('K', fontsize=18)"
   ]
  },
  {
   "cell_type": "code",
   "execution_count": 22,
   "metadata": {
    "colab": {
     "base_uri": "https://localhost:8080/",
     "height": 1000
    },
    "id": "ioIZCwidpxF5",
    "outputId": "ba2b7b92-02c6-48a8-cca7-157cb16c24a0"
   },
   "outputs": [
    {
     "name": "stdout",
     "output_type": "stream",
     "text": [
      "[[2.63319265e+00 3.37956667e+04 2.71113514e+00 9.73668073e+01\n",
      "  1.15956067e+06 3.47109718e-03 5.50000000e+01 1.58423567e+06\n",
      "  1.19335633e+06]\n",
      " [1.92813759e+00 7.28733333e+03 1.97125265e+00 9.80718624e+01\n",
      "  3.50466500e+05 2.30154373e-03 1.46666667e+01 4.97783500e+05\n",
      "  3.57753833e+05]]\n",
      "[[1.70424427e+00 4.42725000e+03 1.74000010e+00 9.82957557e+01\n",
      "  2.59246000e+05 1.72383618e-03 8.00000000e+00 3.34644750e+05\n",
      "  2.63673250e+05]\n",
      " [3.11454706e+00 4.39395000e+04 3.21727118e+00 9.68854529e+01\n",
      "  1.34178100e+06 3.47283136e-03 6.25000000e+01 1.79959050e+06\n",
      "  1.38572050e+06]\n",
      " [2.14077743e+00 1.31743333e+04 2.18879286e+00 9.78592226e+01\n",
      "  6.20311667e+05 3.46051548e-03 3.20000000e+01 9.33882667e+05\n",
      "  6.33486000e+05]]\n",
      "[[3.11454706e+00 4.39395000e+04 3.21727118e+00 9.68854529e+01\n",
      "  1.34178100e+06 3.47283136e-03 6.25000000e+01 1.79959050e+06\n",
      "  1.38572050e+06]\n",
      " [1.67048383e+00 1.35080000e+04 1.69886306e+00 9.83295162e+01\n",
      "  7.95120000e+05 3.46762882e-03 4.00000000e+01 1.15352600e+06\n",
      "  8.08628000e+05]\n",
      " [2.14013921e+00 1.11420000e+04 2.18813278e+00 9.78598608e+01\n",
      "  5.00852333e+05 3.11380544e-03 2.26666667e+01 7.14152667e+05\n",
      "  5.11994333e+05]\n",
      " [1.71613597e+00 3.43266667e+03 1.75437252e+00 9.82838640e+01\n",
      "  2.00080667e+05 1.48928201e-03 6.66666667e+00 2.81414333e+05\n",
      "  2.03513333e+05]]\n",
      "[[2.14013921e+00 1.11420000e+04 2.18813278e+00 9.78598608e+01\n",
      "  5.00852333e+05 3.11380544e-03 2.26666667e+01 7.14152667e+05\n",
      "  5.11994333e+05]\n",
      " [1.71613597e+00 3.43266667e+03 1.75437252e+00 9.82838640e+01\n",
      "  2.00080667e+05 1.48928201e-03 6.66666667e+00 2.81414333e+05\n",
      "  2.03513333e+05]\n",
      " [2.62812529e+00 3.22010000e+04 2.69905997e+00 9.73718747e+01\n",
      "  1.19304500e+06 3.47029220e-03 5.80000000e+01 1.67132900e+06\n",
      "  1.22524600e+06]\n",
      " [1.67048383e+00 1.35080000e+04 1.69886306e+00 9.83295162e+01\n",
      "  7.95120000e+05 3.46762882e-03 4.00000000e+01 1.15352600e+06\n",
      "  8.08628000e+05]\n",
      " [3.60096883e+00 5.56780000e+04 3.73548239e+00 9.63990312e+01\n",
      "  1.49051700e+06 3.47537052e-03 6.70000000e+01 1.92785200e+06\n",
      "  1.54619500e+06]]\n",
      "[[2.62812529e+00 3.22010000e+04 2.69905997e+00 9.73718747e+01\n",
      "  1.19304500e+06 3.47029220e-03 5.80000000e+01 1.67132900e+06\n",
      "  1.22524600e+06]\n",
      " [3.60096883e+00 5.56780000e+04 3.73548239e+00 9.63990312e+01\n",
      "  1.49051700e+06 3.47537052e-03 6.70000000e+01 1.92785200e+06\n",
      "  1.54619500e+06]\n",
      " [2.11101394e+00 3.86450000e+03 2.16403776e+00 9.78889861e+01\n",
      "  1.62747500e+05 0.00000000e+00 0.00000000e+00 1.98300000e+05\n",
      "  1.66612000e+05]\n",
      " [1.67048383e+00 1.35080000e+04 1.69886306e+00 9.83295162e+01\n",
      "  7.95120000e+05 3.46762882e-03 4.00000000e+01 1.15352600e+06\n",
      "  8.08628000e+05]\n",
      " [1.29747459e+00 4.99000000e+03 1.31596244e+00 9.87025254e+01\n",
      "  3.55744500e+05 3.44767237e-03 1.60000000e+01 4.70989500e+05\n",
      "  3.60734500e+05]\n",
      " [2.37592423e+00 1.30075000e+04 2.43375775e+00 9.76240758e+01\n",
      "  5.32907500e+05 3.45695881e-03 2.80000000e+01 8.24061000e+05\n",
      "  5.45915000e+05]]\n",
      "[[3.60096883e+00 5.56780000e+04 3.73548239e+00 9.63990312e+01\n",
      "  1.49051700e+06 3.47537052e-03 6.70000000e+01 1.92785200e+06\n",
      "  1.54619500e+06]\n",
      " [2.40567108e+00 1.61230000e+04 2.46497015e+00 9.75943289e+01\n",
      "  6.54085000e+05 4.30487377e-03 3.30000000e+01 7.66573000e+05\n",
      "  6.70208000e+05]\n",
      " [2.34617738e+00 9.89200000e+03 2.40254536e+00 9.76538226e+01\n",
      "  4.11730000e+05 2.60904385e-03 2.30000000e+01 8.81549000e+05\n",
      "  4.21622000e+05]\n",
      " [1.29747459e+00 4.99000000e+03 1.31596244e+00 9.87025254e+01\n",
      "  3.55744500e+05 3.44767237e-03 1.60000000e+01 4.70989500e+05\n",
      "  3.60734500e+05]\n",
      " [2.62812529e+00 3.22010000e+04 2.69905997e+00 9.73718747e+01\n",
      "  1.19304500e+06 3.47029220e-03 5.80000000e+01 1.67132900e+06\n",
      "  1.22524600e+06]\n",
      " [1.67048383e+00 1.35080000e+04 1.69886306e+00 9.83295162e+01\n",
      "  7.95120000e+05 3.46762882e-03 4.00000000e+01 1.15352600e+06\n",
      "  8.08628000e+05]\n",
      " [2.11101394e+00 3.86450000e+03 2.16403776e+00 9.78889861e+01\n",
      "  1.62747500e+05 0.00000000e+00 0.00000000e+00 1.98300000e+05\n",
      "  1.66612000e+05]]\n"
     ]
    },
    {
     "data": {
      "image/png": "[encoded data removed]",
      "text/plain": [
       "<Figure size 432x288 with 1 Axes>"
      ]
     },
     "metadata": {
      "needs_background": "light"
     },
     "output_type": "display_data"
    }
   ],
   "source": [
    "from sklearn.metrics import silhouette_score\n",
    "\n",
    "def get_silhouette_scores(points):\n",
    "  scores = []\n",
    "  for k in range(2, 8):\n",
    "     km, labels = cluster_points(points, K=k)\n",
    "     s_score = silhouette_score(points,  km.labels_)\n",
    "     scores.append((k, s_score))\n",
    "  return np.array(scores)\n",
    "\n",
    "# be sure to comment this call out, before testing\n",
    "# it will cause a timeout during any submissions\n",
    "sscores = get_silhouette_scores(points)\n",
    "plot_scores(sscores, y='silhouette')"
   ]
  },
  {
   "cell_type": "code",
   "execution_count": 23,
   "metadata": {
    "colab": {
     "base_uri": "https://localhost:8080/",
     "height": 1000
    },
    "id": "IjFzBnvMuNLy",
    "outputId": "f2b649af-3636-4a84-8995-3b444ab0f030"
   },
   "outputs": [
    {
     "name": "stdout",
     "output_type": "stream",
     "text": [
      "[[2.63319265e+00 3.37956667e+04 2.71113514e+00 9.73668073e+01\n",
      "  1.15956067e+06 3.47109718e-03 5.50000000e+01 1.58423567e+06\n",
      "  1.19335633e+06]\n",
      " [1.92813759e+00 7.28733333e+03 1.97125265e+00 9.80718624e+01\n",
      "  3.50466500e+05 2.30154373e-03 1.46666667e+01 4.97783500e+05\n",
      "  3.57753833e+05]]\n",
      "[[3.11454706e+00 4.39395000e+04 3.21727118e+00 9.68854529e+01\n",
      "  1.34178100e+06 3.47283136e-03 6.25000000e+01 1.79959050e+06\n",
      "  1.38572050e+06]\n",
      " [2.14077743e+00 1.31743333e+04 2.18879286e+00 9.78592226e+01\n",
      "  6.20311667e+05 3.46051548e-03 3.20000000e+01 9.33882667e+05\n",
      "  6.33486000e+05]\n",
      " [1.70424427e+00 4.42725000e+03 1.74000010e+00 9.82957557e+01\n",
      "  2.59246000e+05 1.72383618e-03 8.00000000e+00 3.34644750e+05\n",
      "  2.63673250e+05]]\n",
      "[[1.71613597e+00 3.43266667e+03 1.75437252e+00 9.82838640e+01\n",
      "  2.00080667e+05 1.48928201e-03 6.66666667e+00 2.81414333e+05\n",
      "  2.03513333e+05]\n",
      " [2.14013921e+00 1.11420000e+04 2.18813278e+00 9.78598608e+01\n",
      "  5.00852333e+05 3.11380544e-03 2.26666667e+01 7.14152667e+05\n",
      "  5.11994333e+05]\n",
      " [3.11454706e+00 4.39395000e+04 3.21727118e+00 9.68854529e+01\n",
      "  1.34178100e+06 3.47283136e-03 6.25000000e+01 1.79959050e+06\n",
      "  1.38572050e+06]\n",
      " [1.67048383e+00 1.35080000e+04 1.69886306e+00 9.83295162e+01\n",
      "  7.95120000e+05 3.46762882e-03 4.00000000e+01 1.15352600e+06\n",
      "  8.08628000e+05]]\n",
      "[[2.14013921e+00 1.11420000e+04 2.18813278e+00 9.78598608e+01\n",
      "  5.00852333e+05 3.11380544e-03 2.26666667e+01 7.14152667e+05\n",
      "  5.11994333e+05]\n",
      " [1.71613597e+00 3.43266667e+03 1.75437252e+00 9.82838640e+01\n",
      "  2.00080667e+05 1.48928201e-03 6.66666667e+00 2.81414333e+05\n",
      "  2.03513333e+05]\n",
      " [1.67048383e+00 1.35080000e+04 1.69886306e+00 9.83295162e+01\n",
      "  7.95120000e+05 3.46762882e-03 4.00000000e+01 1.15352600e+06\n",
      "  8.08628000e+05]\n",
      " [3.60096883e+00 5.56780000e+04 3.73548239e+00 9.63990312e+01\n",
      "  1.49051700e+06 3.47537052e-03 6.70000000e+01 1.92785200e+06\n",
      "  1.54619500e+06]\n",
      " [2.62812529e+00 3.22010000e+04 2.69905997e+00 9.73718747e+01\n",
      "  1.19304500e+06 3.47029220e-03 5.80000000e+01 1.67132900e+06\n",
      "  1.22524600e+06]]\n",
      "[[1.67048383e+00 1.35080000e+04 1.69886306e+00 9.83295162e+01\n",
      "  7.95120000e+05 3.46762882e-03 4.00000000e+01 1.15352600e+06\n",
      "  8.08628000e+05]\n",
      " [2.37592423e+00 1.30075000e+04 2.43375775e+00 9.76240758e+01\n",
      "  5.32907500e+05 3.45695881e-03 2.80000000e+01 8.24061000e+05\n",
      "  5.45915000e+05]\n",
      " [3.60096883e+00 5.56780000e+04 3.73548239e+00 9.63990312e+01\n",
      "  1.49051700e+06 3.47537052e-03 6.70000000e+01 1.92785200e+06\n",
      "  1.54619500e+06]\n",
      " [1.29747459e+00 4.99000000e+03 1.31596244e+00 9.87025254e+01\n",
      "  3.55744500e+05 3.44767237e-03 1.60000000e+01 4.70989500e+05\n",
      "  3.60734500e+05]\n",
      " [2.62812529e+00 3.22010000e+04 2.69905997e+00 9.73718747e+01\n",
      "  1.19304500e+06 3.47029220e-03 5.80000000e+01 1.67132900e+06\n",
      "  1.22524600e+06]\n",
      " [2.11101394e+00 3.86450000e+03 2.16403776e+00 9.78889861e+01\n",
      "  1.62747500e+05 0.00000000e+00 0.00000000e+00 1.98300000e+05\n",
      "  1.66612000e+05]]\n",
      "[[2.11101394e+00 3.86450000e+03 2.16403776e+00 9.78889861e+01\n",
      "  1.62747500e+05 0.00000000e+00 0.00000000e+00 1.98300000e+05\n",
      "  1.66612000e+05]\n",
      " [1.29747459e+00 4.99000000e+03 1.31596244e+00 9.87025254e+01\n",
      "  3.55744500e+05 3.44767237e-03 1.60000000e+01 4.70989500e+05\n",
      "  3.60734500e+05]\n",
      " [3.60096883e+00 5.56780000e+04 3.73548239e+00 9.63990312e+01\n",
      "  1.49051700e+06 3.47537052e-03 6.70000000e+01 1.92785200e+06\n",
      "  1.54619500e+06]\n",
      " [2.40567108e+00 1.61230000e+04 2.46497015e+00 9.75943289e+01\n",
      "  6.54085000e+05 4.30487377e-03 3.30000000e+01 7.66573000e+05\n",
      "  6.70208000e+05]\n",
      " [2.34617738e+00 9.89200000e+03 2.40254536e+00 9.76538226e+01\n",
      "  4.11730000e+05 2.60904385e-03 2.30000000e+01 8.81549000e+05\n",
      "  4.21622000e+05]\n",
      " [1.67048383e+00 1.35080000e+04 1.69886306e+00 9.83295162e+01\n",
      "  7.95120000e+05 3.46762882e-03 4.00000000e+01 1.15352600e+06\n",
      "  8.08628000e+05]\n",
      " [2.62812529e+00 3.22010000e+04 2.69905997e+00 9.73718747e+01\n",
      "  1.19304500e+06 3.47029220e-03 5.80000000e+01 1.67132900e+06\n",
      "  1.22524600e+06]]\n"
     ]
    },
    {
     "data": {
      "image/png": "[encoded data removed]",
      "text/plain": [
       "<Figure size 432x288 with 1 Axes>"
      ]
     },
     "metadata": {
      "needs_background": "light"
     },
     "output_type": "display_data"
    }
   ],
   "source": [
    "def get_inertias(points):\n",
    "  scores = []\n",
    "  for k in range(2, 8):\n",
    "     km, labels = cluster_points(points, K=k)\n",
    "     scores.append((k, km.inertia_))\n",
    "  return np.array(scores)\n",
    "  \n",
    "# be sure to comment this call out, before testing\n",
    "# it will cause a timeout during any submissions\n",
    "inertia_scores = get_inertias(points)\n",
    "plot_scores(inertia_scores)"
   ]
  },
  {
   "cell_type": "code",
   "execution_count": 24,
   "metadata": {
    "id": "VOUCKYCWBZDp"
   },
   "outputs": [],
   "source": [
    "def get_metadata():\n",
    "  meta = {\n",
    "          \"title\": PROJECT_TITLE, # keep this as is\n",
    "          \"nb_id\": NOTEBOOK_ID,   # keep this as is\n",
    "          \"data\" : ['https://drive.google.com/uc?export=download&id=1Gq2g5FqSx7_-S6v6p_F12IVnqxCwb6lu','https://drive.google.com/uc?export=download&id=1YFslPN7VAvn5KVTmO53b4hsDhOd1QZC4'],\n",
    "\n",
    "          # permissions\n",
    "          # do you give the instructor the permission to copy this project\n",
    "          # and allow others to view it in the class gallery?\n",
    "          \"allow_gallery\": True,\n",
    "          \n",
    "          # if your project is made viewable to others,\n",
    "          # do you want to include your name (first/last)?\n",
    "          \"allow_name_release\": True\n",
    "          }\n",
    "  return meta"
   ]
  },
  {
   "cell_type": "markdown",
   "metadata": {
    "id": "h1iF2H1tPRrK"
   },
   "source": [
    "1. For this project I am still debating whether to use the K-means algorithim of logistic regression to detail how zipcodes and asthma correlate to each other in the Bay Area. I am also beginning to take a cyberGIS class and if I feel comfortable I may make a map of the final data I come across. \n"
   ]
  },
  {
   "cell_type": "markdown",
   "metadata": {
    "id": "u-WoXFhZPyOw"
   },
   "source": [
    "2. In order to prepare the data I am going to have to do a heavy amount of text normalization from the datasets I chose. I have a list of counties and the asthma deaths in them. From my vehicle dataset I have zipcodes and will have to research what zip codes make up the counties in the bay area. Next I will have to create a dictionary for the cleaned zip codes and tie them into each of the counties. This may involve adding a new column to the dataframe. The other important data column is the vehicle type and I will get a count of each present based in the counties. By the end my dataset will be cleaned to have the number of vehicle types and deaths in a county. From here I am thinking of doing a K-means visualiztion like the homework to see clusters of counties that should have more compared with count values. \n",
    "\n",
    "The considerations I have made to distinguish fuel types are as following:\n",
    "\n",
    "Combustion: Gasoline, Diesel + Diesel Hybrid, Hybrid Gasoline, Flex Fuel, Natural Gas, Other\n",
    "\n",
    "Alternative: Hydrogen Fuel Cell, Battery Electric, Plug-in Hybrid"
   ]
  },
  {
   "cell_type": "markdown",
   "metadata": {
    "id": "-_C-G52O29MM"
   },
   "source": [
    "Specific instructions will come for what to submit for the various milestones.\n",
    "\n",
    "If necessary, you can download the Python version of this notebook by using the `File->Download .py` as well as the notebook itself `File->Download .ipynb`.\n",
    "\n"
   ]
  },
  {
   "cell_type": "code",
   "execution_count": null,
   "metadata": {},
   "outputs": [],
   "source": []
  }
 ],
 "metadata": {
  "colab": {
   "collapsed_sections": [],
   "name": "DMAP FA20 Final Project",
   "provenance": []
  },
  "kernelspec": {
   "display_name": "Python 3",
   "language": "python",
   "name": "python3"
  },
  "language_info": {
   "codemirror_mode": {
    "name": "ipython",
    "version": 3
   },
   "file_extension": ".py",
   "mimetype": "text/x-python",
   "name": "python",
   "nbconvert_exporter": "python",
   "pygments_lexer": "ipython3",
   "version": "3.8.8"
  }
 },
 "nbformat": 4,
 "nbformat_minor": 1
}
